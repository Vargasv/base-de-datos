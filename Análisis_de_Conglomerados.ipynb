{
  "nbformat": 4,
  "nbformat_minor": 0,
  "metadata": {
    "colab": {
      "provenance": [],
      "collapsed_sections": [],
      "authorship_tag": "ABX9TyPuv+Tr6rXci40V7KSuupRT",
      "include_colab_link": true
    },
    "kernelspec": {
      "name": "python3",
      "display_name": "Python 3"
    },
    "language_info": {
      "name": "python"
    }
  },
  "cells": [
    {
      "cell_type": "markdown",
      "metadata": {
        "id": "view-in-github",
        "colab_type": "text"
      },
      "source": [
        "<a href=\"https://colab.research.google.com/github/Vargasv/base-de-datos/blob/main/An%C3%A1lisis_de_Conglomerados.ipynb\" target=\"_parent\"><img src=\"https://colab.research.google.com/assets/colab-badge.svg\" alt=\"Open In Colab\"/></a>"
      ]
    },
    {
      "cell_type": "markdown",
      "source": [
        "# **ANÁLISIS DE CONGLOMERADOS** *(Luis Vargas)*\n",
        "\n",
        "\n",
        "## AGRUPAMIENTO JERÁRQUICO\n",
        "\n",
        "El Agrupamiento o Clustering Jerárquico es un método para el análisis de conglomerados que no requiere que se especifique el número de clusters o grupos con antelación. Este método de agrupamiento se subdivide en dos tipos dependiendo de la estrategia seguida para crear los grupos:\n",
        "\n",
        "*   Aglomerativo: el agrupamiento se inicia con todas las observaciones separadas, cada una formando un cluster individual. Los clusters se van combinado a medida que la estructura crece hasta converger en uno solo.\n",
        "\n",
        "*   Divisivo: es la estrategia opuesta al aglomerativo, se inicia con todas las observaciones contenidas en un mismo cluster y se hacen divisiones sucesivas hasta que cada observación forma un cluster individual.\n",
        "\n",
        "En ambos casos, los resultados pueden representarse de forma muy intuitiva en una estructura de árbol llamada dendrograma.\n",
        "\n",
        "### AGLOMERATIVO\n",
        "\n",
        "El algoritmo seguido para por el clustering aglomerativo es: \n",
        "\n",
        "1.   Se forma la base del dendograma considerando cada una de las observaciones como un grupo individual.\n",
        "2.   Calcular la distancia entre cada posible par de los n grupos. Para ello se selecciona el tipo de medida por el cual se va a determinar la similitud entre grupos.\n",
        "3.\t Los dos grupos más similares se unen, de forma que quedan n-1 clusters.\n",
        "\n",
        "Los pasos 2 y 3 se repiten de forma sucesiva hasta tener un solo grupo. Luego se “corta” el dendograma a cierta altura según la cantidad de grupos deseados.\n",
        "\n",
        "Para formar los grupos es necesario definir cómo se cuantifica la similitud entre dos clusters, a este proceso se le conoce como linkage. Los 5 tipos de linkage más usados son los siguientes\n",
        "\n",
        "\n",
        "\n",
        "*   Máxima (sigle): La distancia entre dos grupos, A y B, se define por la mayor distancia obtenida al comparar cada posible par de observaciones del grupo A con las del grupo B. Se trata de la medida más conservadora.\n",
        "*   Mínima (complete): La distancia entre dos grupos, A y B, se define por la menor distancia obtenida al comparar cada posible par de observaciones del grupo A con las del grupo B. Se trata de la medida menos conservadora.\n",
        "*   Promedio (average): La distancia entre dos grupos, A y B, se define por la distancia promedio obtenida al comparar cada posible par de observaciones del grupo A con las del grupo B.\n",
        "*   Centroide (centroid): La distancia entre dos grupos se obtiene calculando el centroide de cada uno de los grupos, la distancia entre los centroides corresponde a la distancia entre grupos.\n",
        "*   Guarda (ward): Se trata de un método general. La selección del par de grupos a combinar se basa en el valor óptimo de una función objetivo, decidida por el analista. El método guarda de la varianza minima es un caso particular en el que el objetivo es minimizar la suma total de varianza entre grupos. En cada paso, se identifican aquellos 2 clusters cuya fusión conlleva menor incremento de la varianza total. Esta es la misma métrica que se minimiza en K-medias.\n",
        "\n",
        "Junto con los resultados de un proceso de agrupamiento jerárquico siempre se debe indicar qué distancia se ha empleado, así como el tipo de linkage, ya que, dependiendo de estos, los resultados pueden variar en gran medida.\n",
        "\n",
        "### DIVISIVO\n",
        "\n",
        "El algoritmo divisivo más conocido de inicia con un único grupo que contiene todas las observaciones, luego se van dividiendo  hasta que cada observación forma un grupo independiente. En cada iteración, se selecciona el grupo con mayor diámetro, el cual es la mayor distancia entre todos los pares de observaciones del grupo; en este se identifica la observación más dispar, que es aquella con mayor distancia promedio respecto al resto de observaciones que forman el grupo. \n",
        "\n",
        "Esta observación inicia el nuevo grupo, y las demás observaciones se reasignan dependiendo de si están más cerca de este nuevo grupo o del resto de observaciones, dividiendo así el grupo seleccionado en dos nuevos grupos. El paso a paso sería el siguiente:\n",
        "\n",
        "1.\tSe inicia con todas las observaciones formando un solo grupo.\n",
        "\n",
        "2.\tCalcular para cada grupo la mayor de las distancias entre pares de observaciones, (lo que llamamos diámetro) y se selecciona el grupo de mayor diámetro.\n",
        "\n",
        "3.\tCalcular la distancia media entre observaciones del grupo, esta será la que inicia el nuevo grupo.\n",
        "\n",
        "4.\tSe reasignan las observaciones restantes al nuevo grupo o al grupo anterior dependiendo de cuál está más próximo.\n",
        "\n",
        "\n",
        "### DENDOGRAMA\n",
        "\n",
        "La representación gráfica del agrupamiento jerárquico se realiza por medio de un dendograma, un gráfico del tipo árbol donde las ramas representan la jerarquía en la que dos grupos se unen.\n",
        "\n",
        "En la base del dendograma se ubicarían todas las observaciones de forma individual, lo cual llamamos “hojas”, las cuales se irán uniendo según qué tan similares sean para formar las primeras ramas del dendograma. Esto significa que a medida que la similitud es menor a medida que ascendemos en el gráfico, permitiéndonos identificar que tan similares son dos observaciones de acuerdo a su ubicación en el eje vertical.\n",
        "Adicionalmente, se puede obtener el número de grupos a formar si se “corta” de manera horizontal el gráfico a una altura determinada,  siendo este número la cantidad de ramas que se encuentran inmediatamente por encima de esta división. Con un solo dendrograma se dispone de la flexibilidad para generar cualquier número de grupos desde 1 a n. La selección del número óptimo de grupos se puede hacer también de forma visual, tratando de identificar las ramas principales en base a la altura a la que ocurren las uniones.\n",
        "\n",
        "## NÚMERO ÓPTIMO DE GRUPOS \n",
        "\n",
        "Determinar la cantidad de grupos a formar cuando se realizan análisis de conglomerados en un paso importante pero a veces complicado, sobre todo cuando se agrupa por particiones, en el cual es necesario determinar el número de grupos antes de obtener algún resultado. No existe una forma única de averiguar el número adecuado de grupos. Este procedimiento depende también del algoritmo empleado y de alguna información previa de la cual se pueda disponer y que nos ayude a determinar el número de grupos óptimo. Algunos métodos utilizados son los siguientes:\n",
        "\n",
        "*   Método Elbow\n",
        "\n",
        "El método Elbow, también conocido como método del codo, consiste en hallar el valor óptimo de un parámetro representándolo gráficamente los resultados obtenidos con cada uno, e identificar aquel punto de la curva a partir del cual la mejora deja de ser notable. En el análisis de conglomerados se puede usar como parámetro la varianza total entre grupos, decidiendo la cantidad de grupos en el punto donde agregar más grupos apenas consigue disminuir la varianza.\n",
        "\n",
        "*   Método average silhouette\n",
        "\n",
        "El método de promedio silhouette considera como número óptimo de clusters aquel que maximiza la media del coeficiente de silhouette  de todas las observaciones.\n",
        "El coeficiente de silhouette  cuantifica cómo de buena es la asignación que se ha hecho de una observación comparando su similitud con el resto de observaciones de su cluster frente a las de los otros clusters. Su valor puede estar entre -1 y 1, siendo valores próximos a 1 un indicativo de que la observación se ha asignado al cluster correcto.\n",
        "\n",
        "*   Estadístico gap\n",
        "\n",
        "Este estadístico compara, para diferentes valores de k, la varianza total intra-cluster observada frente al valor esperado acorde a una distribución uniforme de referencia. La estimación del número óptimo de clusters es el valor k con el que se consigue maximizar el estadístico gap, es decir, encuentra el valor de k con el que se consigue una estructura de conglomerados lo más alejada\n",
        "\n",
        "*   Método visual del dendograma\n",
        "\n",
        "Una forma de identificar el número de clusters, es inspeccionar visualmente el dendograma y decidir a qué altura se corta para generar los clusters. \n",
        "\n",
        "\n"
      ],
      "metadata": {
        "id": "xW5-mwehhcC5"
      }
    },
    {
      "cell_type": "markdown",
      "source": [
        "# **EJEMPLO**\n",
        "\n",
        "Importamos las librerias a utilizar"
      ],
      "metadata": {
        "id": "pc-d2HR4n30D"
      }
    },
    {
      "cell_type": "code",
      "source": [
        "import pandas as pd\n",
        "import numpy as np\n",
        "import matplotlib.pyplot as plt\n",
        "\n",
        "%matplotlib inline"
      ],
      "metadata": {
        "id": "cvPdz7S9mcMn"
      },
      "execution_count": 2,
      "outputs": []
    },
    {
      "cell_type": "markdown",
      "source": [
        "Descargamos la base de datos\n",
        "\n",
        "Corresponde a los datos de las 45 principales criptomonedas, obtenido de la plataforma de CoinMarketCap"
      ],
      "metadata": {
        "id": "8vJCWd7UoNhG"
      }
    },
    {
      "cell_type": "code",
      "source": [
        "url = \"https://raw.githubusercontent.com/Vargasv/base-de-datos/main/base%20de%20datos.csv\"\n",
        "\n",
        "data = pd.read_csv(url, sep=\";\")\n",
        "\n",
        "data.head()"
      ],
      "metadata": {
        "id": "sxpnzdObm7s6"
      },
      "execution_count": null,
      "outputs": []
    },
    {
      "cell_type": "markdown",
      "source": [
        "## Normalizar datos\n",
        "\n",
        "Eliminamos las variables que no son numéricas para poder normalizar los datos"
      ],
      "metadata": {
        "id": "zDXkyOVXo26X"
      }
    },
    {
      "cell_type": "code",
      "source": [
        "from sklearn.preprocessing import normalize\n",
        "\n",
        "data_use = data.drop (columns =[\"Name\"], axis=1)\n",
        "\n",
        "data_scaled = normalize(data_use)\n"
      ],
      "metadata": {
        "id": "KWiJ5qT4Rpxv"
      },
      "execution_count": null,
      "outputs": []
    },
    {
      "cell_type": "code",
      "source": [
        "data_scaled = pd.DataFrame(data_scaled, columns=data_use.columns)\n",
        "data_scaled. head()"
      ],
      "metadata": {
        "id": "h_8ixIq8npsd"
      },
      "execution_count": null,
      "outputs": []
    },
    {
      "cell_type": "markdown",
      "source": [
        "## Dendograma\n",
        "\n",
        "Elaboramos el dendograma seleccionando el método de linkage"
      ],
      "metadata": {
        "id": "S03FXZ10oTPe"
      }
    },
    {
      "cell_type": "code",
      "source": [
        "import scipy.cluster.hierarchy as shc\n",
        "\n",
        "plt.figure(figsize=(10,7))\n",
        "\n",
        "plt.title(\"Dendograma\")\n",
        "\n",
        "dend = shc.dendrogram(shc.linkage(data_scaled, method=\"ward\"))"
      ],
      "metadata": {
        "id": "RxPDQd1ToVwJ"
      },
      "execution_count": null,
      "outputs": []
    },
    {
      "cell_type": "markdown",
      "source": [
        "## Número de clusters\n",
        "\n",
        "Decidimos el numero de grupos observando el dendograma"
      ],
      "metadata": {
        "id": "8GKlJ__xp7Ym"
      }
    },
    {
      "cell_type": "code",
      "source": [
        "plt.figure(figsize=(10,7))\n",
        "\n",
        "plt.title(\"Dendograma\")\n",
        "\n",
        "dend = shc.dendrogram(shc.linkage(data_scaled, method=\"ward\"))\n",
        "\n",
        "plt.axhline (y=0.15, color=\"r\", linestyle='--')\n",
        "\n",
        "plt.show()"
      ],
      "metadata": {
        "id": "-Rr7YSygpdXH"
      },
      "execution_count": null,
      "outputs": []
    },
    {
      "cell_type": "markdown",
      "source": [
        "## Gráfico de dispersión \n",
        "\n",
        "En primer lugar asignamos el cluster a cada una de las observaciones, seleccionando nuevamente la forma de medir las distancias y el método de linkage"
      ],
      "metadata": {
        "id": "wc6h8TZgrKVq"
      }
    },
    {
      "cell_type": "code",
      "source": [
        "from sklearn.cluster import AgglomerativeClustering\n",
        "\n",
        "cluster = AgglomerativeClustering(n_clusters=3, affinity = 'euclidean', linkage='ward')\n"
      ],
      "metadata": {
        "id": "E67F2eH8qevA"
      },
      "execution_count": 65,
      "outputs": []
    },
    {
      "cell_type": "code",
      "source": [
        "cluster.fit_predict(data_scaled)"
      ],
      "metadata": {
        "id": "EDJFDzjMrO2n"
      },
      "execution_count": null,
      "outputs": []
    },
    {
      "cell_type": "code",
      "source": [
        "plt.figure(figsize=(10,7))\n",
        "\n",
        "plt.scatter(data_scaled ['24h %'], data_scaled['Volume(24h)'], c=cluster.labels_)"
      ],
      "metadata": {
        "id": "A4FqC2I6rWpb"
      },
      "execution_count": null,
      "outputs": []
    },
    {
      "cell_type": "markdown",
      "source": [
        "### Métodos para decidir el número de grupos"
      ],
      "metadata": {
        "id": "ZCULQPftrxvW"
      }
    },
    {
      "cell_type": "code",
      "source": [
        "from sklearn.cluster import KMeans\n",
        "from sklearn import metrics\n",
        "from scipy.spatial.distance import cdist"
      ],
      "metadata": {
        "id": "VFMWy26uciHl"
      },
      "execution_count": 76,
      "outputs": []
    },
    {
      "cell_type": "markdown",
      "source": [
        "Utilizaremos el método de elbow, para ello calcularemos en primer lugar calculamos el parámetro a graficar, en nuestro ejemplo seleccionaremos la distorción."
      ],
      "metadata": {
        "id": "Ht57WKuxsy_j"
      }
    },
    {
      "cell_type": "code",
      "source": [
        "data_2 = pd.DataFrame(data_scaled)\n",
        "\n",
        "distortions =[]\n",
        "\n",
        "K = range (1,10)\n",
        "\n",
        "for k in K:\n",
        "  kmeanModel = KMeans (n_clusters= k).fit(data_2)\n",
        "\n",
        "  distortions.append(sum(np.min(cdist(data_2, kmeanModel.cluster_centers_,\n",
        "                    'euclidean'), axis=1)) / data_2.shape[0])"
      ],
      "metadata": {
        "id": "8mxWy6U5irIn"
      },
      "execution_count": 78,
      "outputs": []
    },
    {
      "cell_type": "code",
      "source": [
        "plt.plot(K, distortions, 'bx-')\n",
        "plt.xlabel('Values of K - Number of clusters')\n",
        "plt.ylabel('Distortions')\n",
        "plt.title('The Elbow Method using Distortion')\n",
        "plt.show()"
      ],
      "metadata": {
        "id": "fDsbnqd1mDJH"
      },
      "execution_count": null,
      "outputs": []
    },
    {
      "cell_type": "markdown",
      "source": [
        "Como podemos observar en nuerto gráfico de codo, el número de grupos sugeridos por este método son 3 o 4, que es donde se \"suaviza\" la curva de nuestro gráfico"
      ],
      "metadata": {
        "id": "rom6W5OXtWFD"
      }
    }
  ]
}